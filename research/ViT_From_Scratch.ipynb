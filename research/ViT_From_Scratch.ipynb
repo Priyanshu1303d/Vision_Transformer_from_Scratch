{
  "nbformat": 4,
  "nbformat_minor": 0,
  "metadata": {
    "colab": {
      "provenance": [],
      "gpuType": "T4"
    },
    "kernelspec": {
      "name": "python3",
      "display_name": "Python 3"
    },
    "language_info": {
      "name": "python"
    },
    "accelerator": "GPU",
    "widgets": {
      "application/vnd.jupyter.widget-state+json": {
        "31ef34f3cf80401b919f43288077c2e6": {
          "model_module": "@jupyter-widgets/controls",
          "model_name": "HBoxModel",
          "model_module_version": "1.5.0",
          "state": {
            "_dom_classes": [],
            "_model_module": "@jupyter-widgets/controls",
            "_model_module_version": "1.5.0",
            "_model_name": "HBoxModel",
            "_view_count": null,
            "_view_module": "@jupyter-widgets/controls",
            "_view_module_version": "1.5.0",
            "_view_name": "HBoxView",
            "box_style": "",
            "children": [
              "IPY_MODEL_4d3c174429f5493980b14d8082ae39bf",
              "IPY_MODEL_9ec1e4bbb25843b5806b775e02522961",
              "IPY_MODEL_5be4feb6409b4f20becb03db86e02415"
            ],
            "layout": "IPY_MODEL_414021de265447ed9eaeb42aa8f56e26"
          }
        },
        "4d3c174429f5493980b14d8082ae39bf": {
          "model_module": "@jupyter-widgets/controls",
          "model_name": "HTMLModel",
          "model_module_version": "1.5.0",
          "state": {
            "_dom_classes": [],
            "_model_module": "@jupyter-widgets/controls",
            "_model_module_version": "1.5.0",
            "_model_name": "HTMLModel",
            "_view_count": null,
            "_view_module": "@jupyter-widgets/controls",
            "_view_module_version": "1.5.0",
            "_view_name": "HTMLView",
            "description": "",
            "description_tooltip": null,
            "layout": "IPY_MODEL_6ebbbee1c9d5418bb43b9d485835b59d",
            "placeholder": "​",
            "style": "IPY_MODEL_41bf5a97f6c54df286cb953c5216e80c",
            "value": "100%"
          }
        },
        "9ec1e4bbb25843b5806b775e02522961": {
          "model_module": "@jupyter-widgets/controls",
          "model_name": "FloatProgressModel",
          "model_module_version": "1.5.0",
          "state": {
            "_dom_classes": [],
            "_model_module": "@jupyter-widgets/controls",
            "_model_module_version": "1.5.0",
            "_model_name": "FloatProgressModel",
            "_view_count": null,
            "_view_module": "@jupyter-widgets/controls",
            "_view_module_version": "1.5.0",
            "_view_name": "ProgressView",
            "bar_style": "success",
            "description": "",
            "description_tooltip": null,
            "layout": "IPY_MODEL_852be98ae6464efb95d5e5a08fe42ebf",
            "max": 60,
            "min": 0,
            "orientation": "horizontal",
            "style": "IPY_MODEL_c32358573af94cd0aa3b16f5e844cbe1",
            "value": 60
          }
        },
        "5be4feb6409b4f20becb03db86e02415": {
          "model_module": "@jupyter-widgets/controls",
          "model_name": "HTMLModel",
          "model_module_version": "1.5.0",
          "state": {
            "_dom_classes": [],
            "_model_module": "@jupyter-widgets/controls",
            "_model_module_version": "1.5.0",
            "_model_name": "HTMLModel",
            "_view_count": null,
            "_view_module": "@jupyter-widgets/controls",
            "_view_module_version": "1.5.0",
            "_view_name": "HTMLView",
            "description": "",
            "description_tooltip": null,
            "layout": "IPY_MODEL_46cc1745c28b4c77950abb1f4fb8fc2b",
            "placeholder": "​",
            "style": "IPY_MODEL_00b8b12f4fe54f028c19b8c79251e54c",
            "value": " 60/60 [1:45:46&lt;00:00, 105.65s/it]"
          }
        },
        "414021de265447ed9eaeb42aa8f56e26": {
          "model_module": "@jupyter-widgets/base",
          "model_name": "LayoutModel",
          "model_module_version": "1.2.0",
          "state": {
            "_model_module": "@jupyter-widgets/base",
            "_model_module_version": "1.2.0",
            "_model_name": "LayoutModel",
            "_view_count": null,
            "_view_module": "@jupyter-widgets/base",
            "_view_module_version": "1.2.0",
            "_view_name": "LayoutView",
            "align_content": null,
            "align_items": null,
            "align_self": null,
            "border": null,
            "bottom": null,
            "display": null,
            "flex": null,
            "flex_flow": null,
            "grid_area": null,
            "grid_auto_columns": null,
            "grid_auto_flow": null,
            "grid_auto_rows": null,
            "grid_column": null,
            "grid_gap": null,
            "grid_row": null,
            "grid_template_areas": null,
            "grid_template_columns": null,
            "grid_template_rows": null,
            "height": null,
            "justify_content": null,
            "justify_items": null,
            "left": null,
            "margin": null,
            "max_height": null,
            "max_width": null,
            "min_height": null,
            "min_width": null,
            "object_fit": null,
            "object_position": null,
            "order": null,
            "overflow": null,
            "overflow_x": null,
            "overflow_y": null,
            "padding": null,
            "right": null,
            "top": null,
            "visibility": null,
            "width": null
          }
        },
        "6ebbbee1c9d5418bb43b9d485835b59d": {
          "model_module": "@jupyter-widgets/base",
          "model_name": "LayoutModel",
          "model_module_version": "1.2.0",
          "state": {
            "_model_module": "@jupyter-widgets/base",
            "_model_module_version": "1.2.0",
            "_model_name": "LayoutModel",
            "_view_count": null,
            "_view_module": "@jupyter-widgets/base",
            "_view_module_version": "1.2.0",
            "_view_name": "LayoutView",
            "align_content": null,
            "align_items": null,
            "align_self": null,
            "border": null,
            "bottom": null,
            "display": null,
            "flex": null,
            "flex_flow": null,
            "grid_area": null,
            "grid_auto_columns": null,
            "grid_auto_flow": null,
            "grid_auto_rows": null,
            "grid_column": null,
            "grid_gap": null,
            "grid_row": null,
            "grid_template_areas": null,
            "grid_template_columns": null,
            "grid_template_rows": null,
            "height": null,
            "justify_content": null,
            "justify_items": null,
            "left": null,
            "margin": null,
            "max_height": null,
            "max_width": null,
            "min_height": null,
            "min_width": null,
            "object_fit": null,
            "object_position": null,
            "order": null,
            "overflow": null,
            "overflow_x": null,
            "overflow_y": null,
            "padding": null,
            "right": null,
            "top": null,
            "visibility": null,
            "width": null
          }
        },
        "41bf5a97f6c54df286cb953c5216e80c": {
          "model_module": "@jupyter-widgets/controls",
          "model_name": "DescriptionStyleModel",
          "model_module_version": "1.5.0",
          "state": {
            "_model_module": "@jupyter-widgets/controls",
            "_model_module_version": "1.5.0",
            "_model_name": "DescriptionStyleModel",
            "_view_count": null,
            "_view_module": "@jupyter-widgets/base",
            "_view_module_version": "1.2.0",
            "_view_name": "StyleView",
            "description_width": ""
          }
        },
        "852be98ae6464efb95d5e5a08fe42ebf": {
          "model_module": "@jupyter-widgets/base",
          "model_name": "LayoutModel",
          "model_module_version": "1.2.0",
          "state": {
            "_model_module": "@jupyter-widgets/base",
            "_model_module_version": "1.2.0",
            "_model_name": "LayoutModel",
            "_view_count": null,
            "_view_module": "@jupyter-widgets/base",
            "_view_module_version": "1.2.0",
            "_view_name": "LayoutView",
            "align_content": null,
            "align_items": null,
            "align_self": null,
            "border": null,
            "bottom": null,
            "display": null,
            "flex": null,
            "flex_flow": null,
            "grid_area": null,
            "grid_auto_columns": null,
            "grid_auto_flow": null,
            "grid_auto_rows": null,
            "grid_column": null,
            "grid_gap": null,
            "grid_row": null,
            "grid_template_areas": null,
            "grid_template_columns": null,
            "grid_template_rows": null,
            "height": null,
            "justify_content": null,
            "justify_items": null,
            "left": null,
            "margin": null,
            "max_height": null,
            "max_width": null,
            "min_height": null,
            "min_width": null,
            "object_fit": null,
            "object_position": null,
            "order": null,
            "overflow": null,
            "overflow_x": null,
            "overflow_y": null,
            "padding": null,
            "right": null,
            "top": null,
            "visibility": null,
            "width": null
          }
        },
        "c32358573af94cd0aa3b16f5e844cbe1": {
          "model_module": "@jupyter-widgets/controls",
          "model_name": "ProgressStyleModel",
          "model_module_version": "1.5.0",
          "state": {
            "_model_module": "@jupyter-widgets/controls",
            "_model_module_version": "1.5.0",
            "_model_name": "ProgressStyleModel",
            "_view_count": null,
            "_view_module": "@jupyter-widgets/base",
            "_view_module_version": "1.2.0",
            "_view_name": "StyleView",
            "bar_color": null,
            "description_width": ""
          }
        },
        "46cc1745c28b4c77950abb1f4fb8fc2b": {
          "model_module": "@jupyter-widgets/base",
          "model_name": "LayoutModel",
          "model_module_version": "1.2.0",
          "state": {
            "_model_module": "@jupyter-widgets/base",
            "_model_module_version": "1.2.0",
            "_model_name": "LayoutModel",
            "_view_count": null,
            "_view_module": "@jupyter-widgets/base",
            "_view_module_version": "1.2.0",
            "_view_name": "LayoutView",
            "align_content": null,
            "align_items": null,
            "align_self": null,
            "border": null,
            "bottom": null,
            "display": null,
            "flex": null,
            "flex_flow": null,
            "grid_area": null,
            "grid_auto_columns": null,
            "grid_auto_flow": null,
            "grid_auto_rows": null,
            "grid_column": null,
            "grid_gap": null,
            "grid_row": null,
            "grid_template_areas": null,
            "grid_template_columns": null,
            "grid_template_rows": null,
            "height": null,
            "justify_content": null,
            "justify_items": null,
            "left": null,
            "margin": null,
            "max_height": null,
            "max_width": null,
            "min_height": null,
            "min_width": null,
            "object_fit": null,
            "object_position": null,
            "order": null,
            "overflow": null,
            "overflow_x": null,
            "overflow_y": null,
            "padding": null,
            "right": null,
            "top": null,
            "visibility": null,
            "width": null
          }
        },
        "00b8b12f4fe54f028c19b8c79251e54c": {
          "model_module": "@jupyter-widgets/controls",
          "model_name": "DescriptionStyleModel",
          "model_module_version": "1.5.0",
          "state": {
            "_model_module": "@jupyter-widgets/controls",
            "_model_module_version": "1.5.0",
            "_model_name": "DescriptionStyleModel",
            "_view_count": null,
            "_view_module": "@jupyter-widgets/base",
            "_view_module_version": "1.2.0",
            "_view_name": "StyleView",
            "description_width": ""
          }
        }
      }
    }
  },
  "cells": [
    {
      "cell_type": "markdown",
      "source": [
        "# Step 1: Import Library"
      ],
      "metadata": {
        "id": "GB48m-ljKyeC"
      }
    },
    {
      "cell_type": "code",
      "execution_count": 1,
      "metadata": {
        "id": "kPfftbFEzQx-"
      },
      "outputs": [],
      "source": [
        "import torch\n",
        "import torch.nn as nn\n",
        "import torch.optim as optim\n",
        "import torch.nn.functional as F\n",
        "from torch.utils.data import DataLoader\n",
        "import torchvision.datasets as datasets\n",
        "import torchvision.transforms as transforms\n",
        "from tqdm import tqdm\n",
        "import random\n",
        "import numpy as np\n",
        "import matplotlib.pyplot as plt"
      ]
    },
    {
      "cell_type": "code",
      "source": [
        "torch.__version__"
      ],
      "metadata": {
        "colab": {
          "base_uri": "https://localhost:8080/",
          "height": 35
        },
        "id": "DFOZaqKM02Wk",
        "outputId": "515337ff-5f4d-49da-a628-c9f0ffc1bbd5"
      },
      "execution_count": 2,
      "outputs": [
        {
          "output_type": "execute_result",
          "data": {
            "text/plain": [
              "'2.6.0+cu124'"
            ],
            "application/vnd.google.colaboratory.intrinsic+json": {
              "type": "string"
            }
          },
          "metadata": {},
          "execution_count": 2
        }
      ]
    },
    {
      "cell_type": "markdown",
      "source": [
        "# Step 2 : Set up GPU"
      ],
      "metadata": {
        "id": "4OBxhqvjLrl0"
      }
    },
    {
      "cell_type": "code",
      "source": [
        "device = \"cuda\" if torch.cuda.is_available() else \"cpu\"\n",
        "device"
      ],
      "metadata": {
        "colab": {
          "base_uri": "https://localhost:8080/",
          "height": 35
        },
        "id": "D4RsSVUs02UY",
        "outputId": "3ad5f7ea-f745-4ac8-962e-7d9db5f90846"
      },
      "execution_count": 3,
      "outputs": [
        {
          "output_type": "execute_result",
          "data": {
            "text/plain": [
              "'cuda'"
            ],
            "application/vnd.google.colaboratory.intrinsic+json": {
              "type": "string"
            }
          },
          "metadata": {},
          "execution_count": 3
        }
      ]
    },
    {
      "cell_type": "code",
      "source": [
        "torch.manual_seed(42)\n",
        "torch.cuda.manual_seed(42)\n",
        "random.seed(42)"
      ],
      "metadata": {
        "id": "EUp1uOv_02SV"
      },
      "execution_count": 4,
      "outputs": []
    },
    {
      "cell_type": "markdown",
      "source": [
        "# Step 3 : Hyperparameter"
      ],
      "metadata": {
        "id": "4f86cdhKMjNC"
      }
    },
    {
      "cell_type": "code",
      "source": [
        "BATCH_SIZE = 128\n",
        "EPOCHS = 60 # BEFORE 25\n",
        "LEARNING_RATE = 3e-4\n",
        "PATCH_SIZE = 4 # 4X4\n",
        "NUM_CLASSES = 10 # 10 Classes airplane , bus etc\n",
        "IMAGE_SIZE = 32\n",
        "CHANNELS = 3\n",
        "EMBED_DIM = 256\n",
        "NUM_HEADS = 8  # Number of multi head attentions\n",
        "DEPTH = 8 # before 6 TRANSFORMERS\n",
        "MLP_DIM = 768\n",
        "DROP_RATE = 0.1\n",
        "WEIGHT_DECAY = 0.01 # ADDED FOR AUG"
      ],
      "metadata": {
        "id": "ui4KiNRg02QC"
      },
      "execution_count": 69,
      "outputs": []
    },
    {
      "cell_type": "markdown",
      "source": [
        "# step 4 : Image Transformation"
      ],
      "metadata": {
        "id": "BsEF3ui4NmeD"
      }
    },
    {
      "cell_type": "code",
      "source": [
        "# before augmentation\n",
        "before_transform = transforms.Compose([\n",
        "    transforms.ToTensor(),\n",
        "    transforms.Normalize(mean = (0.5) , std = (0.5)), # helps to make model converge faster # 2. helps to make numerical computations stable\n",
        "\n",
        "])\n",
        "\n",
        "#after augmentation\n",
        "after_transform = transforms.Compose([\n",
        "    transforms.RandomCrop(32 , padding = 4),\n",
        "    transforms.RandomHorizontalFlip(),\n",
        "    transforms.ColorJitter(brightness=0.2, contrast=0.2, saturation=0.2, hue=0.1),\n",
        "    transforms.ToTensor(),\n",
        "    transforms.Normalize(mean=[0.5]*3, std=[0.5]*3),\n",
        "])"
      ],
      "metadata": {
        "id": "R7uAiXMZ02NX"
      },
      "execution_count": 70,
      "outputs": []
    },
    {
      "cell_type": "markdown",
      "source": [
        "## Step 5 : Getting Dataset"
      ],
      "metadata": {
        "id": "yhv4NJcuPGpZ"
      }
    },
    {
      "cell_type": "code",
      "source": [
        "train_dataset = datasets.CIFAR10(root =\"data/train\" , download=True , transform = after_transform , train=True)"
      ],
      "metadata": {
        "colab": {
          "base_uri": "https://localhost:8080/"
        },
        "id": "eR8Jj7FU02Kv",
        "outputId": "96d173ee-5f13-4c1f-9730-a5cdaa3a748e"
      },
      "execution_count": 71,
      "outputs": [
        {
          "output_type": "stream",
          "name": "stderr",
          "text": [
            "100%|██████████| 170M/170M [00:04<00:00, 35.2MB/s]\n"
          ]
        }
      ]
    },
    {
      "cell_type": "code",
      "source": [
        "test_dataset = datasets.CIFAR10(root =\"data/test\" , download=True , transform = after_transform , train=False)"
      ],
      "metadata": {
        "colab": {
          "base_uri": "https://localhost:8080/"
        },
        "id": "h8Ys5w7g02IV",
        "outputId": "cad7eacb-8999-44c1-d16d-bbfcdac9dedb"
      },
      "execution_count": 72,
      "outputs": [
        {
          "output_type": "stream",
          "name": "stderr",
          "text": [
            "100%|██████████| 170M/170M [00:03<00:00, 48.5MB/s]\n"
          ]
        }
      ]
    },
    {
      "cell_type": "code",
      "source": [
        "train_dataset"
      ],
      "metadata": {
        "colab": {
          "base_uri": "https://localhost:8080/"
        },
        "id": "bGm0niOvPonn",
        "outputId": "28c5212d-48ca-4bd6-8e33-5abe116d880e"
      },
      "execution_count": 73,
      "outputs": [
        {
          "output_type": "execute_result",
          "data": {
            "text/plain": [
              "Dataset CIFAR10\n",
              "    Number of datapoints: 50000\n",
              "    Root location: data/train\n",
              "    Split: Train\n",
              "    StandardTransform\n",
              "Transform: Compose(\n",
              "               RandomCrop(size=(32, 32), padding=4)\n",
              "               RandomHorizontalFlip(p=0.5)\n",
              "               ColorJitter(brightness=(0.8, 1.2), contrast=(0.8, 1.2), saturation=(0.8, 1.2), hue=(-0.1, 0.1))\n",
              "               ToTensor()\n",
              "               Normalize(mean=[0.5, 0.5, 0.5], std=[0.5, 0.5, 0.5])\n",
              "           )"
            ]
          },
          "metadata": {},
          "execution_count": 73
        }
      ]
    },
    {
      "cell_type": "code",
      "source": [
        "test_dataset"
      ],
      "metadata": {
        "colab": {
          "base_uri": "https://localhost:8080/"
        },
        "id": "pZOyv8C8P6An",
        "outputId": "88ae7d87-2fa0-4cab-ee30-faf90ac9ebf8"
      },
      "execution_count": 74,
      "outputs": [
        {
          "output_type": "execute_result",
          "data": {
            "text/plain": [
              "Dataset CIFAR10\n",
              "    Number of datapoints: 10000\n",
              "    Root location: data/test\n",
              "    Split: Test\n",
              "    StandardTransform\n",
              "Transform: Compose(\n",
              "               RandomCrop(size=(32, 32), padding=4)\n",
              "               RandomHorizontalFlip(p=0.5)\n",
              "               ColorJitter(brightness=(0.8, 1.2), contrast=(0.8, 1.2), saturation=(0.8, 1.2), hue=(-0.1, 0.1))\n",
              "               ToTensor()\n",
              "               Normalize(mean=[0.5, 0.5, 0.5], std=[0.5, 0.5, 0.5])\n",
              "           )"
            ]
          },
          "metadata": {},
          "execution_count": 74
        }
      ]
    },
    {
      "cell_type": "markdown",
      "source": [
        "# Step 6 : Converting pytorchDatasets into DataLoaders"
      ],
      "metadata": {
        "id": "5iVrahItQOK3"
      }
    },
    {
      "cell_type": "markdown",
      "source": [
        "DataLoader converts it into iterable batches or (mini-batches)\n",
        "1. More computationally efficient(i.e not able to store 50k data in on loop in ram to divide it into batches of 128 images)\n",
        "\n",
        "2. It gives our neural network to update its gradient in each epoch\n"
      ],
      "metadata": {
        "id": "0fukHhpgQTzQ"
      }
    },
    {
      "cell_type": "code",
      "source": [
        "train_loader = DataLoader(dataset = train_dataset , batch_size=BATCH_SIZE , shuffle = True , pin_memory = True)\n",
        "test_loader = DataLoader(dataset = test_dataset , batch_size=BATCH_SIZE , shuffle = False, pin_memory = True)"
      ],
      "metadata": {
        "id": "SF7t3STOP9Tu"
      },
      "execution_count": 75,
      "outputs": []
    },
    {
      "cell_type": "code",
      "source": [
        "# Let's check out what we've created\n",
        "print(f\"DataLoader: {train_loader, test_loader}\")\n",
        "print(f\"Length of train_loader: {len(train_loader)} batches of {BATCH_SIZE}...\")\n",
        "print(f\"Length of test_loader: {len(test_loader)} batches of {BATCH_SIZE}...\")"
      ],
      "metadata": {
        "colab": {
          "base_uri": "https://localhost:8080/"
        },
        "id": "7YWpQaVmRVWl",
        "outputId": "075bc3a9-5ee2-49b3-89e8-7e012d773d98"
      },
      "execution_count": 76,
      "outputs": [
        {
          "output_type": "stream",
          "name": "stdout",
          "text": [
            "DataLoader: (<torch.utils.data.dataloader.DataLoader object at 0x7c90c84cba90>, <torch.utils.data.dataloader.DataLoader object at 0x7c90c84ca210>)\n",
            "Length of train_loader: 391 batches of 128...\n",
            "Length of test_loader: 79 batches of 128...\n"
          ]
        }
      ]
    },
    {
      "cell_type": "markdown",
      "source": [
        "# Step 7 : Building Vision Transfomer model From Scratch"
      ],
      "metadata": {
        "id": "iUmfux6VTA0t"
      }
    },
    {
      "cell_type": "code",
      "source": [
        "class Patch_Embedding(nn.Module):\n",
        "  def __init__(self ,image_size ,patch_size ,in_channels , embed_dim ):\n",
        "    super().__init__()\n",
        "    self.patch_size = patch_size\n",
        "    self.projection = nn.Conv2d(\n",
        "        in_channels = in_channels,\n",
        "        out_channels = embed_dim,\n",
        "        kernel_size = patch_size,\n",
        "        stride = patch_size,\n",
        "    )\n",
        "\n",
        "    num_patches = (image_size // patch_size) ** 2\n",
        "    self.pos_embedding = nn.Parameter(torch.randn(1, 1 + num_patches , embed_dim))\n",
        "    self.cls_token = nn.Parameter(torch.randn(1 , 1, embed_dim))\n",
        "\n",
        "\n",
        "  def forward(self , x : torch.Tensor):\n",
        "    B = x.size(0)\n",
        "    x = self.projection(x) # ( B , E , H/P , W/P)\n",
        "    x = x.flatten(2).transpose(1,2) #( B, N, E)\n",
        "\n",
        "    cls_tokens = self.cls_token.expand(B, -1, -1)\n",
        "    x = torch.cat((cls_tokens, x), dim=1)\n",
        "    x = x + self.pos_embedding\n",
        "\n",
        "    return x"
      ],
      "metadata": {
        "id": "VxWJkrAVSgE-"
      },
      "execution_count": 77,
      "outputs": []
    },
    {
      "cell_type": "code",
      "source": [
        "class MLP(nn.Module):\n",
        "  def __init__(self , in_features , hidden_features , dropout_rate ):\n",
        "    super().__init__()\n",
        "\n",
        "    self.fc1 = nn.Linear(in_features= in_features , out_features = hidden_features)\n",
        "\n",
        "    self.fc2 = nn.Linear(in_features = hidden_features , out_features= in_features)\n",
        "\n",
        "    self.dropout = nn.Dropout(p = dropout_rate)\n",
        "\n",
        "  def forward(self , x):\n",
        "    x = self.fc1(x)\n",
        "    x = F.gelu(x)\n",
        "    x = self.dropout(x)\n",
        "    x = self.fc2(x)\n",
        "    x = self.dropout(x)\n",
        "\n",
        "    return x"
      ],
      "metadata": {
        "id": "wtUaLuWNSgkD"
      },
      "execution_count": 78,
      "outputs": []
    },
    {
      "cell_type": "code",
      "source": [
        "class TransformerEncoderLayer(nn.Module):\n",
        "  def __init__(self , embed_dim , num_heads , mlp_dim , dropout_rate):\n",
        "    super().__init__()\n",
        "\n",
        "    self.norm1 = nn.LayerNorm(embed_dim)\n",
        "\n",
        "    self.attention = nn.MultiheadAttention(embed_dim , num_heads=num_heads , dropout=dropout_rate , batch_first = True)\n",
        "\n",
        "    self.norm2 = nn.LayerNorm(embed_dim)\n",
        "\n",
        "    self.mlp = MLP(embed_dim , mlp_dim , dropout_rate)\n",
        "\n",
        "  def forward(self , x):\n",
        "    residual = x\n",
        "    x = self.norm1(x)\n",
        "    x , _ = self.attention(x , x , x) # or  x = self.attention(x , x , x)[0]\n",
        "    x = x + residual\n",
        "\n",
        "    residual = x\n",
        "    x = self.norm2(x)\n",
        "    x = self.mlp(x)\n",
        "\n",
        "    return x"
      ],
      "metadata": {
        "id": "tvuaBq8WShF8"
      },
      "execution_count": 79,
      "outputs": []
    },
    {
      "cell_type": "code",
      "source": [
        "class VisionTransformer(nn.Module):\n",
        "  def __init__(self , image_size , patch_size , in_channels , num_classes , embed_dim , num_heads , depth , mlp_dim , dropout_rate):\n",
        "    super().__init__()\n",
        "\n",
        "    self.patch_embed = Patch_Embedding(image_size=image_size , patch_size=patch_size , in_channels=in_channels , embed_dim=embed_dim)\n",
        "\n",
        "    self.encoder = nn.Sequential(*[\n",
        "        TransformerEncoderLayer(embed_dim , num_heads , mlp_dim , dropout_rate)\n",
        "        for _ in range(depth)\n",
        "    ])\n",
        "\n",
        "\n",
        "    self.norm = nn.LayerNorm(embed_dim)\n",
        "\n",
        "    self.head = nn.Linear(embed_dim , num_classes)\n",
        "\n",
        "  def forward(self, x):\n",
        "    x = self.patch_embed(x)\n",
        "    x = self.encoder(x)\n",
        "    x = self.norm(x)\n",
        "    cls_token = x[:, 0]\n",
        "    x = self.head(cls_token)\n",
        "\n",
        "    return x\n"
      ],
      "metadata": {
        "id": "JI4uEAWhShIr"
      },
      "execution_count": 80,
      "outputs": []
    },
    {
      "cell_type": "markdown",
      "source": [
        "# Model Instantiation"
      ],
      "metadata": {
        "id": "GOFbICPde_Ul"
      }
    },
    {
      "cell_type": "code",
      "source": [
        "model = VisionTransformer(\n",
        "    IMAGE_SIZE,\n",
        "    PATCH_SIZE,\n",
        "    CHANNELS,\n",
        "    NUM_CLASSES,\n",
        "    EMBED_DIM,\n",
        "    NUM_HEADS,  # 8\n",
        "    DEPTH,      # 6\n",
        "    MLP_DIM,\n",
        "    DROP_RATE\n",
        ").to(device)"
      ],
      "metadata": {
        "id": "qBDqh_0RShNk"
      },
      "execution_count": 81,
      "outputs": []
    },
    {
      "cell_type": "code",
      "source": [
        "model"
      ],
      "metadata": {
        "colab": {
          "base_uri": "https://localhost:8080/"
        },
        "id": "wMVSuavyi3kT",
        "outputId": "bafd6604-45f3-4547-c4f4-ce52e73aa9eb"
      },
      "execution_count": 82,
      "outputs": [
        {
          "output_type": "execute_result",
          "data": {
            "text/plain": [
              "VisionTransformer(\n",
              "  (patch_embed): Patch_Embedding(\n",
              "    (projection): Conv2d(3, 256, kernel_size=(4, 4), stride=(4, 4))\n",
              "  )\n",
              "  (encoder): Sequential(\n",
              "    (0): TransformerEncoderLayer(\n",
              "      (norm1): LayerNorm((256,), eps=1e-05, elementwise_affine=True)\n",
              "      (attention): MultiheadAttention(\n",
              "        (out_proj): NonDynamicallyQuantizableLinear(in_features=256, out_features=256, bias=True)\n",
              "      )\n",
              "      (norm2): LayerNorm((256,), eps=1e-05, elementwise_affine=True)\n",
              "      (mlp): MLP(\n",
              "        (fc1): Linear(in_features=256, out_features=768, bias=True)\n",
              "        (fc2): Linear(in_features=768, out_features=256, bias=True)\n",
              "        (dropout): Dropout(p=0.1, inplace=False)\n",
              "      )\n",
              "    )\n",
              "    (1): TransformerEncoderLayer(\n",
              "      (norm1): LayerNorm((256,), eps=1e-05, elementwise_affine=True)\n",
              "      (attention): MultiheadAttention(\n",
              "        (out_proj): NonDynamicallyQuantizableLinear(in_features=256, out_features=256, bias=True)\n",
              "      )\n",
              "      (norm2): LayerNorm((256,), eps=1e-05, elementwise_affine=True)\n",
              "      (mlp): MLP(\n",
              "        (fc1): Linear(in_features=256, out_features=768, bias=True)\n",
              "        (fc2): Linear(in_features=768, out_features=256, bias=True)\n",
              "        (dropout): Dropout(p=0.1, inplace=False)\n",
              "      )\n",
              "    )\n",
              "    (2): TransformerEncoderLayer(\n",
              "      (norm1): LayerNorm((256,), eps=1e-05, elementwise_affine=True)\n",
              "      (attention): MultiheadAttention(\n",
              "        (out_proj): NonDynamicallyQuantizableLinear(in_features=256, out_features=256, bias=True)\n",
              "      )\n",
              "      (norm2): LayerNorm((256,), eps=1e-05, elementwise_affine=True)\n",
              "      (mlp): MLP(\n",
              "        (fc1): Linear(in_features=256, out_features=768, bias=True)\n",
              "        (fc2): Linear(in_features=768, out_features=256, bias=True)\n",
              "        (dropout): Dropout(p=0.1, inplace=False)\n",
              "      )\n",
              "    )\n",
              "    (3): TransformerEncoderLayer(\n",
              "      (norm1): LayerNorm((256,), eps=1e-05, elementwise_affine=True)\n",
              "      (attention): MultiheadAttention(\n",
              "        (out_proj): NonDynamicallyQuantizableLinear(in_features=256, out_features=256, bias=True)\n",
              "      )\n",
              "      (norm2): LayerNorm((256,), eps=1e-05, elementwise_affine=True)\n",
              "      (mlp): MLP(\n",
              "        (fc1): Linear(in_features=256, out_features=768, bias=True)\n",
              "        (fc2): Linear(in_features=768, out_features=256, bias=True)\n",
              "        (dropout): Dropout(p=0.1, inplace=False)\n",
              "      )\n",
              "    )\n",
              "    (4): TransformerEncoderLayer(\n",
              "      (norm1): LayerNorm((256,), eps=1e-05, elementwise_affine=True)\n",
              "      (attention): MultiheadAttention(\n",
              "        (out_proj): NonDynamicallyQuantizableLinear(in_features=256, out_features=256, bias=True)\n",
              "      )\n",
              "      (norm2): LayerNorm((256,), eps=1e-05, elementwise_affine=True)\n",
              "      (mlp): MLP(\n",
              "        (fc1): Linear(in_features=256, out_features=768, bias=True)\n",
              "        (fc2): Linear(in_features=768, out_features=256, bias=True)\n",
              "        (dropout): Dropout(p=0.1, inplace=False)\n",
              "      )\n",
              "    )\n",
              "    (5): TransformerEncoderLayer(\n",
              "      (norm1): LayerNorm((256,), eps=1e-05, elementwise_affine=True)\n",
              "      (attention): MultiheadAttention(\n",
              "        (out_proj): NonDynamicallyQuantizableLinear(in_features=256, out_features=256, bias=True)\n",
              "      )\n",
              "      (norm2): LayerNorm((256,), eps=1e-05, elementwise_affine=True)\n",
              "      (mlp): MLP(\n",
              "        (fc1): Linear(in_features=256, out_features=768, bias=True)\n",
              "        (fc2): Linear(in_features=768, out_features=256, bias=True)\n",
              "        (dropout): Dropout(p=0.1, inplace=False)\n",
              "      )\n",
              "    )\n",
              "    (6): TransformerEncoderLayer(\n",
              "      (norm1): LayerNorm((256,), eps=1e-05, elementwise_affine=True)\n",
              "      (attention): MultiheadAttention(\n",
              "        (out_proj): NonDynamicallyQuantizableLinear(in_features=256, out_features=256, bias=True)\n",
              "      )\n",
              "      (norm2): LayerNorm((256,), eps=1e-05, elementwise_affine=True)\n",
              "      (mlp): MLP(\n",
              "        (fc1): Linear(in_features=256, out_features=768, bias=True)\n",
              "        (fc2): Linear(in_features=768, out_features=256, bias=True)\n",
              "        (dropout): Dropout(p=0.1, inplace=False)\n",
              "      )\n",
              "    )\n",
              "    (7): TransformerEncoderLayer(\n",
              "      (norm1): LayerNorm((256,), eps=1e-05, elementwise_affine=True)\n",
              "      (attention): MultiheadAttention(\n",
              "        (out_proj): NonDynamicallyQuantizableLinear(in_features=256, out_features=256, bias=True)\n",
              "      )\n",
              "      (norm2): LayerNorm((256,), eps=1e-05, elementwise_affine=True)\n",
              "      (mlp): MLP(\n",
              "        (fc1): Linear(in_features=256, out_features=768, bias=True)\n",
              "        (fc2): Linear(in_features=768, out_features=256, bias=True)\n",
              "        (dropout): Dropout(p=0.1, inplace=False)\n",
              "      )\n",
              "    )\n",
              "  )\n",
              "  (norm): LayerNorm((256,), eps=1e-05, elementwise_affine=True)\n",
              "  (head): Linear(in_features=256, out_features=10, bias=True)\n",
              ")"
            ]
          },
          "metadata": {},
          "execution_count": 82
        }
      ]
    },
    {
      "cell_type": "markdown",
      "source": [
        "# Step 8 : loss function and optimizer"
      ],
      "metadata": {
        "id": "KNL8jWl9imz8"
      }
    },
    {
      "cell_type": "code",
      "source": [
        "criterion = nn.CrossEntropyLoss(label_smoothing=0.1)\n",
        "\n",
        "optimizer = torch.optim.AdamW(model.parameters(), lr=LEARNING_RATE, weight_decay=WEIGHT_DECAY)\n",
        "scheduler = torch.optim.lr_scheduler.CosineAnnealingLR(optimizer, T_max=EPOCHS)"
      ],
      "metadata": {
        "id": "H9-E9kAQShVZ"
      },
      "execution_count": 83,
      "outputs": []
    },
    {
      "cell_type": "markdown",
      "source": [
        "# Step 9 : Train Model"
      ],
      "metadata": {
        "id": "D1vSd4Xzi7bs"
      }
    },
    {
      "cell_type": "code",
      "source": [
        "def train(model , loader , optimizer , criterion ):\n",
        "  # set the mode of the model to the training mode\n",
        "  model.train()\n",
        "\n",
        "  total_loss , correct_predictions = 0 , 0\n",
        "\n",
        "  for x , y in loader:\n",
        "    x , y = x.to(device) , y.to(device)\n",
        "\n",
        "    optimizer.zero_grad()\n",
        "    # forward\n",
        "    out = model(x)\n",
        "\n",
        "    #loss\n",
        "    loss = criterion(out , y)\n",
        "\n",
        "    #optimizer\n",
        "    loss.backward()\n",
        "    optimizer.step()\n",
        "\n",
        "\n",
        "    total_loss += loss.item() * x.size(0)\n",
        "\n",
        "    correct_predictions += (out.argmax(1) == y).sum().item()\n",
        "\n",
        "  return total_loss / len(loader.dataset) , correct_predictions / len(loader.dataset)"
      ],
      "metadata": {
        "id": "88OEW0bPShaY"
      },
      "execution_count": 84,
      "outputs": []
    },
    {
      "cell_type": "code",
      "source": [
        "def evaluate(model , loader):\n",
        "  model.eval()\n",
        "\n",
        "  correct_predictions =   0\n",
        "\n",
        "  with torch.no_grad():\n",
        "    for x , y in loader:\n",
        "      x , y = x.to(device) , y.to(device)\n",
        "\n",
        "      out = model(x)\n",
        "\n",
        "      loss = criterion(out , y)\n",
        "\n",
        "      correct_predictions += (out.argmax(1) == y).sum().item()\n",
        "\n",
        "  return correct_predictions / len(loader.dataset)"
      ],
      "metadata": {
        "id": "tLWChuoQSheg"
      },
      "execution_count": 85,
      "outputs": []
    },
    {
      "cell_type": "markdown",
      "source": [
        "# Model training"
      ],
      "metadata": {
        "id": "45rJamYKm7ey"
      }
    },
    {
      "cell_type": "code",
      "source": [
        "from tqdm.auto import tqdm\n",
        "train_accuracies , test_accuracies = [] , []\n",
        "\n",
        "\n",
        "for epoch in tqdm(range(EPOCHS)):\n",
        "  train_loss , train_acc = train(model , train_loader , optimizer , criterion)\n",
        "\n",
        "  test_acc = evaluate(model , test_loader)\n",
        "\n",
        "  train_accuracies.append(train_acc)\n",
        "  test_accuracies.append(test_acc)\n",
        "\n",
        "  print(f\"Epoch: {epoch+1}/{EPOCHS}, Train loss: {train_loss:.4f}, Train acc: {train_acc:.4f}%, Test acc: {test_acc:.4f}\")"
      ],
      "metadata": {
        "colab": {
          "base_uri": "https://localhost:8080/",
          "height": 1000,
          "referenced_widgets": [
            "31ef34f3cf80401b919f43288077c2e6",
            "4d3c174429f5493980b14d8082ae39bf",
            "9ec1e4bbb25843b5806b775e02522961",
            "5be4feb6409b4f20becb03db86e02415",
            "414021de265447ed9eaeb42aa8f56e26",
            "6ebbbee1c9d5418bb43b9d485835b59d",
            "41bf5a97f6c54df286cb953c5216e80c",
            "852be98ae6464efb95d5e5a08fe42ebf",
            "c32358573af94cd0aa3b16f5e844cbe1",
            "46cc1745c28b4c77950abb1f4fb8fc2b",
            "00b8b12f4fe54f028c19b8c79251e54c"
          ]
        },
        "id": "hHxDzES0iKmc",
        "outputId": "b8f1c261-af19-4dc0-c238-84b738703f6e"
      },
      "execution_count": 86,
      "outputs": [
        {
          "output_type": "display_data",
          "data": {
            "text/plain": [
              "  0%|          | 0/60 [00:00<?, ?it/s]"
            ],
            "application/vnd.jupyter.widget-view+json": {
              "version_major": 2,
              "version_minor": 0,
              "model_id": "31ef34f3cf80401b919f43288077c2e6"
            }
          },
          "metadata": {}
        },
        {
          "output_type": "stream",
          "name": "stdout",
          "text": [
            "Epoch: 1/60, Train loss: 2.1611, Train acc: 0.1888%, Test acc: 0.2181\n",
            "Epoch: 2/60, Train loss: 2.0761, Train acc: 0.2238%, Test acc: 0.2482\n",
            "Epoch: 3/60, Train loss: 2.0205, Train acc: 0.2491%, Test acc: 0.2761\n",
            "Epoch: 4/60, Train loss: 1.9584, Train acc: 0.2829%, Test acc: 0.3111\n",
            "Epoch: 5/60, Train loss: 1.9246, Train acc: 0.3070%, Test acc: 0.3168\n",
            "Epoch: 6/60, Train loss: 1.8819, Train acc: 0.3289%, Test acc: 0.3588\n",
            "Epoch: 7/60, Train loss: 1.8469, Train acc: 0.3557%, Test acc: 0.3691\n",
            "Epoch: 8/60, Train loss: 1.8259, Train acc: 0.3672%, Test acc: 0.3860\n",
            "Epoch: 9/60, Train loss: 1.8127, Train acc: 0.3732%, Test acc: 0.3907\n",
            "Epoch: 10/60, Train loss: 1.7863, Train acc: 0.3858%, Test acc: 0.4090\n",
            "Epoch: 11/60, Train loss: 1.7775, Train acc: 0.3921%, Test acc: 0.4112\n",
            "Epoch: 12/60, Train loss: 1.7558, Train acc: 0.4059%, Test acc: 0.4221\n",
            "Epoch: 13/60, Train loss: 1.7420, Train acc: 0.4093%, Test acc: 0.4193\n",
            "Epoch: 14/60, Train loss: 1.7305, Train acc: 0.4214%, Test acc: 0.4449\n",
            "Epoch: 15/60, Train loss: 1.7144, Train acc: 0.4271%, Test acc: 0.4405\n",
            "Epoch: 16/60, Train loss: 1.7041, Train acc: 0.4352%, Test acc: 0.4465\n",
            "Epoch: 17/60, Train loss: 1.6943, Train acc: 0.4389%, Test acc: 0.4593\n",
            "Epoch: 18/60, Train loss: 1.6852, Train acc: 0.4443%, Test acc: 0.4557\n",
            "Epoch: 19/60, Train loss: 1.6736, Train acc: 0.4496%, Test acc: 0.4562\n",
            "Epoch: 20/60, Train loss: 1.6606, Train acc: 0.4569%, Test acc: 0.4691\n",
            "Epoch: 21/60, Train loss: 1.6520, Train acc: 0.4625%, Test acc: 0.4825\n",
            "Epoch: 22/60, Train loss: 1.6412, Train acc: 0.4674%, Test acc: 0.4915\n",
            "Epoch: 23/60, Train loss: 1.6372, Train acc: 0.4698%, Test acc: 0.4670\n",
            "Epoch: 24/60, Train loss: 1.6256, Train acc: 0.4770%, Test acc: 0.4954\n",
            "Epoch: 25/60, Train loss: 1.6165, Train acc: 0.4795%, Test acc: 0.4777\n",
            "Epoch: 26/60, Train loss: 1.6075, Train acc: 0.4837%, Test acc: 0.4970\n",
            "Epoch: 27/60, Train loss: 1.6008, Train acc: 0.4893%, Test acc: 0.4965\n",
            "Epoch: 28/60, Train loss: 1.5883, Train acc: 0.4936%, Test acc: 0.5110\n",
            "Epoch: 29/60, Train loss: 1.5814, Train acc: 0.4968%, Test acc: 0.5097\n",
            "Epoch: 30/60, Train loss: 1.5768, Train acc: 0.4998%, Test acc: 0.5090\n",
            "Epoch: 31/60, Train loss: 1.5653, Train acc: 0.5055%, Test acc: 0.5086\n",
            "Epoch: 32/60, Train loss: 1.5584, Train acc: 0.5135%, Test acc: 0.5173\n",
            "Epoch: 33/60, Train loss: 1.5467, Train acc: 0.5166%, Test acc: 0.5177\n",
            "Epoch: 34/60, Train loss: 1.5368, Train acc: 0.5193%, Test acc: 0.5247\n",
            "Epoch: 35/60, Train loss: 1.5332, Train acc: 0.5221%, Test acc: 0.5164\n",
            "Epoch: 36/60, Train loss: 1.5192, Train acc: 0.5265%, Test acc: 0.5407\n",
            "Epoch: 37/60, Train loss: 1.5142, Train acc: 0.5344%, Test acc: 0.5243\n",
            "Epoch: 38/60, Train loss: 1.5092, Train acc: 0.5353%, Test acc: 0.5325\n",
            "Epoch: 39/60, Train loss: 1.4970, Train acc: 0.5380%, Test acc: 0.5495\n",
            "Epoch: 40/60, Train loss: 1.4926, Train acc: 0.5407%, Test acc: 0.5536\n",
            "Epoch: 41/60, Train loss: 1.4819, Train acc: 0.5472%, Test acc: 0.5508\n",
            "Epoch: 42/60, Train loss: 1.4745, Train acc: 0.5486%, Test acc: 0.5526\n",
            "Epoch: 43/60, Train loss: 1.4659, Train acc: 0.5569%, Test acc: 0.5526\n",
            "Epoch: 44/60, Train loss: 1.4552, Train acc: 0.5604%, Test acc: 0.5563\n",
            "Epoch: 45/60, Train loss: 1.4578, Train acc: 0.5614%, Test acc: 0.5668\n",
            "Epoch: 46/60, Train loss: 1.4432, Train acc: 0.5667%, Test acc: 0.5652\n",
            "Epoch: 47/60, Train loss: 1.4347, Train acc: 0.5713%, Test acc: 0.5718\n",
            "Epoch: 48/60, Train loss: 1.4274, Train acc: 0.5746%, Test acc: 0.5798\n",
            "Epoch: 49/60, Train loss: 1.4184, Train acc: 0.5799%, Test acc: 0.5785\n",
            "Epoch: 50/60, Train loss: 1.4109, Train acc: 0.5832%, Test acc: 0.5744\n",
            "Epoch: 51/60, Train loss: 1.4102, Train acc: 0.5844%, Test acc: 0.5822\n",
            "Epoch: 52/60, Train loss: 1.4032, Train acc: 0.5856%, Test acc: 0.5873\n",
            "Epoch: 53/60, Train loss: 1.3881, Train acc: 0.5945%, Test acc: 0.5896\n",
            "Epoch: 54/60, Train loss: 1.3834, Train acc: 0.5973%, Test acc: 0.5994\n",
            "Epoch: 55/60, Train loss: 1.3708, Train acc: 0.6029%, Test acc: 0.6041\n",
            "Epoch: 56/60, Train loss: 1.3677, Train acc: 0.6022%, Test acc: 0.6097\n",
            "Epoch: 57/60, Train loss: 1.3584, Train acc: 0.6078%, Test acc: 0.6035\n",
            "Epoch: 58/60, Train loss: 1.3507, Train acc: 0.6135%, Test acc: 0.6046\n",
            "Epoch: 59/60, Train loss: 1.3484, Train acc: 0.6114%, Test acc: 0.6074\n",
            "Epoch: 60/60, Train loss: 1.3430, Train acc: 0.6160%, Test acc: 0.6177\n"
          ]
        }
      ]
    },
    {
      "cell_type": "code",
      "source": [
        "train_accuracies"
      ],
      "metadata": {
        "colab": {
          "base_uri": "https://localhost:8080/"
        },
        "id": "qCuWPq-6nAqV",
        "outputId": "6d5cc31d-aab7-4a69-b970-b246a400160c"
      },
      "execution_count": 87,
      "outputs": [
        {
          "output_type": "execute_result",
          "data": {
            "text/plain": [
              "[0.1888,\n",
              " 0.22382,\n",
              " 0.24908,\n",
              " 0.2829,\n",
              " 0.30698,\n",
              " 0.32888,\n",
              " 0.35574,\n",
              " 0.36722,\n",
              " 0.37316,\n",
              " 0.3858,\n",
              " 0.3921,\n",
              " 0.40588,\n",
              " 0.4093,\n",
              " 0.42136,\n",
              " 0.42712,\n",
              " 0.4352,\n",
              " 0.43886,\n",
              " 0.44428,\n",
              " 0.44956,\n",
              " 0.45692,\n",
              " 0.46254,\n",
              " 0.4674,\n",
              " 0.46978,\n",
              " 0.47702,\n",
              " 0.47952,\n",
              " 0.48374,\n",
              " 0.48926,\n",
              " 0.49358,\n",
              " 0.49684,\n",
              " 0.4998,\n",
              " 0.50552,\n",
              " 0.51348,\n",
              " 0.51658,\n",
              " 0.5193,\n",
              " 0.5221,\n",
              " 0.52646,\n",
              " 0.53444,\n",
              " 0.53532,\n",
              " 0.53798,\n",
              " 0.54068,\n",
              " 0.54724,\n",
              " 0.54862,\n",
              " 0.55688,\n",
              " 0.56042,\n",
              " 0.56136,\n",
              " 0.5667,\n",
              " 0.57132,\n",
              " 0.5746,\n",
              " 0.5799,\n",
              " 0.5832,\n",
              " 0.58436,\n",
              " 0.58556,\n",
              " 0.59454,\n",
              " 0.59734,\n",
              " 0.60288,\n",
              " 0.60218,\n",
              " 0.60776,\n",
              " 0.61348,\n",
              " 0.61136,\n",
              " 0.616]"
            ]
          },
          "metadata": {},
          "execution_count": 87
        }
      ]
    },
    {
      "cell_type": "code",
      "source": [
        "test_accuracies"
      ],
      "metadata": {
        "colab": {
          "base_uri": "https://localhost:8080/"
        },
        "id": "VBIWTPkXnAoI",
        "outputId": "ea174c5b-261c-43fb-8e7c-bfa8974b6f00"
      },
      "execution_count": 88,
      "outputs": [
        {
          "output_type": "execute_result",
          "data": {
            "text/plain": [
              "[0.2181,\n",
              " 0.2482,\n",
              " 0.2761,\n",
              " 0.3111,\n",
              " 0.3168,\n",
              " 0.3588,\n",
              " 0.3691,\n",
              " 0.386,\n",
              " 0.3907,\n",
              " 0.409,\n",
              " 0.4112,\n",
              " 0.4221,\n",
              " 0.4193,\n",
              " 0.4449,\n",
              " 0.4405,\n",
              " 0.4465,\n",
              " 0.4593,\n",
              " 0.4557,\n",
              " 0.4562,\n",
              " 0.4691,\n",
              " 0.4825,\n",
              " 0.4915,\n",
              " 0.467,\n",
              " 0.4954,\n",
              " 0.4777,\n",
              " 0.497,\n",
              " 0.4965,\n",
              " 0.511,\n",
              " 0.5097,\n",
              " 0.509,\n",
              " 0.5086,\n",
              " 0.5173,\n",
              " 0.5177,\n",
              " 0.5247,\n",
              " 0.5164,\n",
              " 0.5407,\n",
              " 0.5243,\n",
              " 0.5325,\n",
              " 0.5495,\n",
              " 0.5536,\n",
              " 0.5508,\n",
              " 0.5526,\n",
              " 0.5526,\n",
              " 0.5563,\n",
              " 0.5668,\n",
              " 0.5652,\n",
              " 0.5718,\n",
              " 0.5798,\n",
              " 0.5785,\n",
              " 0.5744,\n",
              " 0.5822,\n",
              " 0.5873,\n",
              " 0.5896,\n",
              " 0.5994,\n",
              " 0.6041,\n",
              " 0.6097,\n",
              " 0.6035,\n",
              " 0.6046,\n",
              " 0.6074,\n",
              " 0.6177]"
            ]
          },
          "metadata": {},
          "execution_count": 88
        }
      ]
    },
    {
      "cell_type": "code",
      "source": [
        "plt.plot(train_accuracies , label = \"train_acc\")\n",
        "plt.plot(test_accuracies , label = \"test_acc\")\n",
        "plt.legend()\n",
        "plt.title(\"Train and Test Accuracy\")\n",
        "plt.show()"
      ],
      "metadata": {
        "colab": {
          "base_uri": "https://localhost:8080/",
          "height": 452
        },
        "id": "oZLnHT7XnAlt",
        "outputId": "fb95922f-0fc0-4633-fde8-3394feb9f3f3"
      },
      "execution_count": 89,
      "outputs": [
        {
          "output_type": "display_data",
          "data": {
            "text/plain": [
              "<Figure size 640x480 with 1 Axes>"
            ],
            "image/png": "[encoded data removed]"
          },
          "metadata": {}
        }
      ]
    },
    {
      "cell_type": "markdown",
      "source": [
        "# Prediction"
      ],
      "metadata": {
        "id": "oQkPii5QvL67"
      }
    },
    {
      "cell_type": "code",
      "source": [
        "import random"
      ],
      "metadata": {
        "id": "4S2Jbq09vqvA"
      },
      "execution_count": 90,
      "outputs": []
    },
    {
      "cell_type": "code",
      "source": [
        "def predict_plot_grid(model , dataset , classes , grid_size):\n",
        "  model.eval()\n",
        "\n",
        "  fig , axes = plt.subplots(grid_size , grid_size , figsize = (9 , 9))\n",
        "  for i in range(grid_size):\n",
        "    for j in range(grid_size):\n",
        "      idx = random.randint(0 , len(dataset) - 1)\n",
        "      img , true_label = dataset[idx]\n",
        "      input_tensor = img.unsqueeze(0).to(device)\n",
        "\n",
        "      with torch.inference_mode():\n",
        "        output = model(input_tensor)\n",
        "\n",
        "        _ , predicted = torch.max(output.data , 1)\n",
        "\n",
        "      img = img / 2 + 0.5 # Unormalize our images to be able to plot them with matplotlib\n",
        "      numpy_img = img.cpu().numpy() # numpy expects the image on cpu\n",
        "      axes[i , j].imshow(np.transpose(numpy_img , (1 , 2 ,0)))\n",
        "\n",
        "      truth = classes[true_label] == classes[predicted.item()]\n",
        "      if truth:\n",
        "        color = \"g\"\n",
        "      else:\n",
        "        color = \"r\"\n",
        "\n",
        "      axes[i, j].set_title(f\"Truth: {classes[true_label]}\\n, Predicted: {classes[predicted.item()]}\", fontsize=10, c=color)\n",
        "      axes[i, j].axis(\"off\")\n",
        "  plt.tight_layout()\n",
        "  plt.show()\n"
      ],
      "metadata": {
        "id": "o4aU1BwMohHU"
      },
      "execution_count": 91,
      "outputs": []
    },
    {
      "cell_type": "code",
      "source": [
        "predict_plot_grid(model , test_dataset , train_dataset.classes , 3)"
      ],
      "metadata": {
        "colab": {
          "base_uri": "https://localhost:8080/",
          "height": 906
        },
        "id": "Gl0ShRIbohFL",
        "outputId": "ca0b7001-fd1b-482d-efe1-a752ca88d034"
      },
      "execution_count": 97,
      "outputs": [
        {
          "output_type": "display_data",
          "data": {
            "text/plain": [
              "<Figure size 900x900 with 9 Axes>"
            ],
            "image/png": "[encoded data removed]"
          },
          "metadata": {}
        }
      ]
    },
    {
      "cell_type": "markdown",
      "source": [
        "# Save model Before Augmentation"
      ],
      "metadata": {
        "id": "QLn_bp0qyftU"
      }
    },
    {
      "cell_type": "code",
      "source": [
        "import os\n",
        "\n",
        "# ===============================\n",
        "# 1. Save model parameters only (state_dict)\n",
        "# ===============================\n",
        "state_dict_dir = \"saved_models/state_dict_only\"\n",
        "os.makedirs(state_dict_dir, exist_ok=True)\n",
        "\n",
        "state_dict_path = os.path.join(state_dict_dir, \"model_weights.pth\")\n",
        "torch.save(model.state_dict(), state_dict_path)\n",
        "print(f\"Saved model weights (state_dict) to: {state_dict_path}\")\n",
        "\n",
        "# ===============================\n",
        "# 2. Save full model (architecture + parameters)\n",
        "# ===============================\n",
        "full_model_dir = \"saved_models/full_model\"\n",
        "os.makedirs(full_model_dir, exist_ok=True)\n",
        "\n",
        "full_model_path = os.path.join(full_model_dir, \"complete_model.pth\")\n",
        "torch.save(model, full_model_path)\n",
        "print(f\"Saved full model to: {full_model_path}\")"
      ],
      "metadata": {
        "colab": {
          "base_uri": "https://localhost:8080/"
        },
        "id": "2NkdXWyLohC7",
        "outputId": "0bcf5c82-a4d1-4f02-e43e-b346210cdbe5"
      },
      "execution_count": 93,
      "outputs": [
        {
          "output_type": "stream",
          "name": "stdout",
          "text": [
            "Saved model weights (state_dict) to: saved_models/state_dict_only/model_weights.pth\n",
            "Saved full model to: saved_models/full_model/complete_model.pth\n"
          ]
        }
      ]
    },
    {
      "cell_type": "markdown",
      "source": [
        "# Save after Augmentation"
      ],
      "metadata": {
        "id": "xRoECYfp4G8U"
      }
    },
    {
      "cell_type": "code",
      "source": [
        "import os\n",
        "\n",
        "# ===============================\n",
        "# 1. Save model parameters only (state_dict)\n",
        "# ===============================\n",
        "state_dict_dir = \"best_models/state_dict_only\"\n",
        "os.makedirs(state_dict_dir, exist_ok=True)\n",
        "\n",
        "state_dict_path = os.path.join(state_dict_dir, \"model_weights.pth\")\n",
        "torch.save(model.state_dict(), state_dict_path)\n",
        "print(f\"Saved model weights (state_dict) to: {state_dict_path}\")\n",
        "\n",
        "# ===============================\n",
        "# 2. Save full model (architecture + parameters)\n",
        "# ===============================\n",
        "full_model_dir = \"best_models/full_model\"\n",
        "os.makedirs(full_model_dir, exist_ok=True)\n",
        "\n",
        "full_model_path = os.path.join(full_model_dir, \"complete_model.pth\")\n",
        "torch.save(model, full_model_path)\n",
        "print(f\"Saved full model to: {full_model_path}\")"
      ],
      "metadata": {
        "colab": {
          "base_uri": "https://localhost:8080/"
        },
        "id": "pil5FcvWohAg",
        "outputId": "550b5878-5ba0-4fdb-87e5-adfc3093aa8d"
      },
      "execution_count": 94,
      "outputs": [
        {
          "output_type": "stream",
          "name": "stdout",
          "text": [
            "Saved model weights (state_dict) to: best_models/state_dict_only/model_weights.pth\n",
            "Saved full model to: best_models/full_model/complete_model.pth\n"
          ]
        }
      ]
    },
    {
      "cell_type": "code",
      "source": [
        "train_accuracies[-1]"
      ],
      "metadata": {
        "colab": {
          "base_uri": "https://localhost:8080/"
        },
        "id": "sMC_i0nDog9-",
        "outputId": "2f45e508-12cb-492a-a74d-9d0e6892b2d2"
      },
      "execution_count": 98,
      "outputs": [
        {
          "output_type": "execute_result",
          "data": {
            "text/plain": [
              "0.616"
            ]
          },
          "metadata": {},
          "execution_count": 98
        }
      ]
    },
    {
      "cell_type": "code",
      "source": [
        "test_accuracies[-1]"
      ],
      "metadata": {
        "colab": {
          "base_uri": "https://localhost:8080/"
        },
        "id": "E4R_cvJ9og39",
        "outputId": "bfeb4980-b935-4065-a313-bd6d1d3b1e06"
      },
      "execution_count": 99,
      "outputs": [
        {
          "output_type": "execute_result",
          "data": {
            "text/plain": [
              "0.6177"
            ]
          },
          "metadata": {},
          "execution_count": 99
        }
      ]
    },
    {
      "cell_type": "code",
      "source": [],
      "metadata": {
        "id": "cynbeUW5VcJi"
      },
      "execution_count": 99,
      "outputs": []
    }
  ]
}