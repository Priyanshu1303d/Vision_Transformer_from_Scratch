{
 "cells": [
  {
   "cell_type": "code",
   "execution_count": 1,
   "id": "88758fdf",
   "metadata": {},
   "outputs": [],
   "source": [
    "import os\n",
    "from pathlib import Path"
   ]
  },
  {
   "cell_type": "code",
   "execution_count": 2,
   "id": "baee13b6",
   "metadata": {},
   "outputs": [
    {
     "data": {
      "text/plain": [
       "'d:\\\\Projects\\\\ViT_from_scratch\\\\research'"
      ]
     },
     "execution_count": 2,
     "metadata": {},
     "output_type": "execute_result"
    }
   ],
   "source": [
    "%pwd"
   ]
  },
  {
   "cell_type": "code",
   "execution_count": 3,
   "id": "09251cc4",
   "metadata": {},
   "outputs": [],
   "source": [
    "os.chdir(\"../\")"
   ]
  },
  {
   "cell_type": "code",
   "execution_count": 4,
   "id": "073b6a0c",
   "metadata": {},
   "outputs": [
    {
     "data": {
      "text/plain": [
       "'d:\\\\Projects\\\\ViT_from_scratch'"
      ]
     },
     "execution_count": 4,
     "metadata": {},
     "output_type": "execute_result"
    }
   ],
   "source": [
    "%pwd"
   ]
  },
  {
   "cell_type": "code",
   "execution_count": 29,
   "id": "689255aa",
   "metadata": {},
   "outputs": [],
   "source": [
    "from dataclasses import dataclass\n",
    "from pathlib import Path\n",
    "\n",
    "@dataclass(frozen = True)\n",
    "class DataIngestionConfig:\n",
    "    root_dir : Path\n",
    "    local_data_file : Path\n",
    "    unzip_dir : Path"
   ]
  },
  {
   "cell_type": "code",
   "execution_count": 30,
   "id": "a5e365a6",
   "metadata": {},
   "outputs": [],
   "source": [
    "from src.vision_Transformer.constants import *\n",
    "from src.vision_Transformer.utils.common import create_directories , read_yaml"
   ]
  },
  {
   "cell_type": "code",
   "execution_count": 31,
   "id": "4ce9485c",
   "metadata": {},
   "outputs": [],
   "source": [
    "class ConfigurationManager:\n",
    "    def __init__(self , config_file_path = CONFIG_FILE_PATH, params_file_path = PARAMS_FILE_PATH):\n",
    "        self.config =read_yaml(config_file_path)\n",
    "        self.params = read_yaml(params_file_path)\n",
    "\n",
    "        create_directories([self.config.artifacts_root])\n",
    "\n",
    "\n",
    "    def get_data_ingestion_config(self) -> DataIngestionConfig:\n",
    "\n",
    "        config = self.config.data_ingestion\n",
    "\n",
    "        create_directories([config.root_dir])\n",
    "\n",
    "        data_ingestion_config = DataIngestionConfig(\n",
    "            root_dir = config.root_dir,\n",
    "            local_data_file= config.local_data_file,\n",
    "            unzip_dir = config.unzip_dir\n",
    "        )\n",
    "\n",
    "        return data_ingestion_config"
   ]
  },
  {
   "cell_type": "code",
   "execution_count": 32,
   "id": "fb8b1cae",
   "metadata": {},
   "outputs": [],
   "source": [
    "import torchvision.datasets as datasets\n",
    "from src.vision_Transformer.logging import logger"
   ]
  },
  {
   "cell_type": "code",
   "execution_count": 33,
   "id": "491c987f",
   "metadata": {},
   "outputs": [],
   "source": [
    "import  torchvision.transforms as transforms\n",
    "pre_transform = transforms.Compose([\n",
    "    transforms.ToTensor(),\n",
    "    transforms.Normalize(mean = (0.5) , std=  (0.5)) \n",
    "    #  helps to make model converge faster \n",
    "    # 2. helps to make numerical computations stable\n",
    "])"
   ]
  },
  {
   "cell_type": "code",
   "execution_count": null,
   "id": "ed4a750d",
   "metadata": {},
   "outputs": [],
   "source": [
    "class DataIngestion:\n",
    "    def __init__(self, config : DataIngestionConfig , pre_transform):\n",
    "        self.config = config\n",
    "        pre_transform = pre_transform \n",
    "\n",
    "\n",
    "    def download_train_dataset(self):\n",
    "        try:\n",
    "          dataset = datasets.CIFAR10(\n",
    "             root = self.config.root_dir,\n",
    "             download=True,\n",
    "             train = True,\n",
    "             transform= pre_transform\n",
    "          )\n",
    "          logger.info(f\"Train Dataset downloaded at {self.config.root_dir}\")\n",
    "        except Exception as e:\n",
    "          print(f'An exception {e} occurred')\n",
    "    \n",
    "    def download_test_dataset(self):\n",
    "        try:\n",
    "          dataset = datasets.CIFAR10(\n",
    "             root = self.config.root_dir,\n",
    "             download=True,\n",
    "             train = False,\n",
    "             transform= pre_transform\n",
    "          )\n",
    "          logger.info(f\"Test Dataset downloaded at {self.config.root_dir}\")\n",
    "        except Exception as e:\n",
    "          print(f'An exception {e} occurred')"
   ]
  },
  {
   "cell_type": "code",
   "execution_count": null,
   "id": "fa66de83",
   "metadata": {},
   "outputs": [],
   "source": [
    "try:\n",
    "    config = ConfigurationManager()\n",
    "    data_ingestion_config = config.get_data_ingestion_config()\n",
    "\n",
    "    data_ingestion = DataIngestion(data_ingestion_config , pre_transform)\n",
    "\n",
    "\n",
    "except Exception as e:\n",
    "    print(f'An exception {e} occurred')"
   ]
  },
  {
   "cell_type": "code",
   "execution_count": null,
   "id": "7f3a577d",
   "metadata": {},
   "outputs": [],
   "source": []
  },
  {
   "cell_type": "code",
   "execution_count": null,
   "id": "eb51a45a",
   "metadata": {},
   "outputs": [],
   "source": []
  }
 ],
 "metadata": {
  "kernelspec": {
   "display_name": "pytorch_gpu",
   "language": "python",
   "name": "python3"
  },
  "language_info": {
   "codemirror_mode": {
    "name": "ipython",
    "version": 3
   },
   "file_extension": ".py",
   "mimetype": "text/x-python",
   "name": "python",
   "nbconvert_exporter": "python",
   "pygments_lexer": "ipython3",
   "version": "3.10.18"
  }
 },
 "nbformat": 4,
 "nbformat_minor": 5
}
