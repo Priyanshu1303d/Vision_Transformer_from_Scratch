{
 "cells": [
  {
   "cell_type": "code",
   "execution_count": 2,
   "id": "f3b60f2e",
   "metadata": {},
   "outputs": [],
   "source": [
    "import os\n",
    "os.chdir(\"../\")"
   ]
  },
  {
   "cell_type": "code",
   "execution_count": 3,
   "id": "36a5e415",
   "metadata": {},
   "outputs": [],
   "source": [
    "import torch\n",
    "from pathlib import Path\n",
    "from dataclasses import dataclass\n",
    "import torchvision.datasets as datasets\n",
    "import torchvision.transforms as transforms\n",
    "from src.vision_Transformer.constants import *\n",
    "from src.vision_Transformer.utils.common import read_yaml, create_directories"
   ]
  },
  {
   "cell_type": "code",
   "execution_count": 4,
   "id": "9f171e62",
   "metadata": {},
   "outputs": [],
   "source": [
    "@dataclass(frozen = True)\n",
    "class ModelTrainerConfig:\n",
    "    root_dir : Path\n",
    "    model_ckpt : str\n",
    "    train_accuracy : Path\n",
    "    train_loss : Path\n",
    "\n",
    "    batch_size : int\n",
    "    epochs : int \n",
    "    learning_rate : float\n",
    "    patch_size : int\n",
    "    num_classes : int\n",
    "    image_size : int \n",
    "    channels : int\n",
    "    embed_dim : int\n",
    "    num_heads: int\n",
    "    depth : int\n",
    "    mlp_dim : int\n",
    "    drop_rate : float\n",
    "    weight_decay : float\n"
   ]
  },
  {
   "cell_type": "code",
   "execution_count": 5,
   "id": "76b75fc3",
   "metadata": {},
   "outputs": [],
   "source": [
    "class ConfigurationManager:\n",
    "    def __init__(self, config_file_path = CONFIG_FILE_PATH ,params_file_path = PARAMS_FILE_PATH):\n",
    "        self.config = read_yaml(config_file_path)\n",
    "        self.params = read_yaml(params_file_path)\n",
    "\n",
    "        create_directories([self.config.artifacts_root])\n",
    "\n",
    "    def get_model_trainer_config(self) -> ModelTrainerConfig:\n",
    "\n",
    "        config = self.config.model_trainer\n",
    "        params = self.params.TrainingArguments\n",
    "\n",
    "        create_directories([config.root_dir])\n",
    "\n",
    "        model_trainer_config = ModelTrainerConfig(\n",
    "            root_dir= config.root_dir,\n",
    "            model_ckpt = config.model_ckpt,\n",
    "            train_accuracy = config.train_accuracy,\n",
    "            train_loss = config.train_loss,\n",
    "\n",
    "            batch_size= params.BATCH_SIZE,\n",
    "            epochs = params.EPOCHS,\n",
    "            learning_rate = params.LEARNING_RATE,\n",
    "            patch_size = params.PATCH_SIZE,\n",
    "            num_classes = params.NUM_CLASSES,\n",
    "            image_size = params.IMAGE_SIZE,\n",
    "            channels = params.CHANNELS,\n",
    "            embed_dim  = params.EMBED_DIM,\n",
    "            num_heads = params.NUM_HEADS,\n",
    "            depth = params.DEPTH,\n",
    "            mlp_dim = params.MLP_DIM,\n",
    "            drop_rate = params.DROP_RATE,\n",
    "            weight_decay  = params.WEIGHT_DECAY\n",
    "        )\n",
    "        return model_trainer_config"
   ]
  },
  {
   "cell_type": "code",
   "execution_count": 6,
   "id": "7494d4fb",
   "metadata": {},
   "outputs": [],
   "source": [
    "from torch.utils.data import DataLoader"
   ]
  },
  {
   "cell_type": "code",
   "execution_count": 7,
   "id": "5879c302",
   "metadata": {},
   "outputs": [],
   "source": [
    "from src.vision_Transformer.logging import logger"
   ]
  },
  {
   "cell_type": "code",
   "execution_count": null,
   "id": "ccdd1c47",
   "metadata": {},
   "outputs": [],
   "source": [
    "class Model_trainer:\n",
    "    def __init__(self, config: ConfigurationManager , ):\n",
    "        self.config = config\n",
    "        \n",
    "        self.device = \"cuda\" if torch.cuda.is_available() else \"cpu\"\n",
    "\n",
    "        train_dataset = \"\"\n",
    "        test_dataset = \"\"\n",
    "\n",
    "        self.train_loader = DataLoader(train_dataset , batch_size = config.batch_size ,shuffle = True ,pin_memory= True)\n",
    "\n",
    "        self.test_loader =  DataLoader(test_dataset , batch_size = config.batch_size ,shuffle = False ,pin_memory= True)\n",
    "\n",
    "        #-----------------------------------\n",
    "        def data_augmentation(self):\n",
    "            self.after_transforms = transforms.Compose([\n",
    "                transforms.RandomCrop(32 , padding=4),\n",
    "                transforms.RandomHorizontalFlip(),\n",
    "                transforms.ColorJitter(brightness=0.2 ,contrast= 0.2, saturation=0.2 , hue=0.1),\n",
    "                transforms.ToTensor(),\n",
    "                transforms.Normalize(mean=[0.5]*3 , std = [0.5]*3)\n",
    "            ])\n",
    "    \n",
    "    def transformed_dataset(self):\n",
    "        transformed_train_dataset = datasets.CIFAR10(\n",
    "            root = self.config.dataset_dir,\n",
    "            train = True,\n",
    "            download= False,\n",
    "            transform= self.after_transforms,\n",
    "        )\n",
    "        logger.info(f\"Train Dataset Transformed Successfully\")\n",
    "        print(f\"Train Dataset Transformed Successfully\")\n",
    "\n",
    "        transformed_test_dataset = datasets.CIFAR10(\n",
    "            root = self.config.dataset_dir,\n",
    "            train = False,\n",
    "            download= False,\n",
    "            transform= self.after_transforms,\n",
    "        )\n",
    "        logger.info(f\"Test Dataset Transformed Successfully\")\n",
    "        print(f\"Test Dataset Transformed Successfully\")\n",
    "\n",
    "        return transformed_train_dataset , transformed_test_dataset\n",
    "    # ---------------------------------------------------------------------------\n",
    "\n",
    "\n",
    "    def model_trainer(self):\n",
    "        pass\n",
    "\n",
    "    def train(self):\n",
    "        pass\n",
    "        "
   ]
  },
  {
   "cell_type": "code",
   "execution_count": null,
   "id": "0d4cbfe0",
   "metadata": {},
   "outputs": [],
   "source": []
  },
  {
   "cell_type": "code",
   "execution_count": null,
   "id": "06a03c52",
   "metadata": {},
   "outputs": [],
   "source": []
  },
  {
   "cell_type": "code",
   "execution_count": null,
   "id": "0ccbcbf8",
   "metadata": {},
   "outputs": [],
   "source": []
  },
  {
   "cell_type": "code",
   "execution_count": null,
   "id": "8ec644d0",
   "metadata": {},
   "outputs": [],
   "source": []
  },
  {
   "cell_type": "code",
   "execution_count": null,
   "id": "b1c7271f",
   "metadata": {},
   "outputs": [],
   "source": []
  },
  {
   "cell_type": "code",
   "execution_count": null,
   "id": "3682f9eb",
   "metadata": {},
   "outputs": [],
   "source": []
  }
 ],
 "metadata": {
  "kernelspec": {
   "display_name": "pytorch_gpu",
   "language": "python",
   "name": "python3"
  },
  "language_info": {
   "codemirror_mode": {
    "name": "ipython",
    "version": 3
   },
   "file_extension": ".py",
   "mimetype": "text/x-python",
   "name": "python",
   "nbconvert_exporter": "python",
   "pygments_lexer": "ipython3",
   "version": "3.10.18"
  }
 },
 "nbformat": 4,
 "nbformat_minor": 5
}
