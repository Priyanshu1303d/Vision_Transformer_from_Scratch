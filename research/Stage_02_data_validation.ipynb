{
 "cells": [
  {
   "cell_type": "code",
   "execution_count": 1,
   "id": "e9463700",
   "metadata": {},
   "outputs": [],
   "source": [
    "import os\n",
    "os.chdir(\"../\")"
   ]
  },
  {
   "cell_type": "code",
   "execution_count": 2,
   "id": "b56a66ff",
   "metadata": {},
   "outputs": [],
   "source": [
    "import os \n",
    "from pathlib import Path\n",
    "from dataclasses import dataclass\n",
    "import torchvision.datasets as datasets\n",
    "import torch\n",
    "from src.vision_Transformer.utils.common import read_yaml , create_directories\n",
    "from src.vision_Transformer.constants import *"
   ]
  },
  {
   "cell_type": "code",
   "execution_count": 3,
   "id": "99699270",
   "metadata": {},
   "outputs": [],
   "source": [
    "@dataclass(frozen = True)\n",
    "class DataValidationConfig:\n",
    "    root_dir: Path\n",
    "    data_set_dir : Path\n",
    "    STATUS_FILE : str"
   ]
  },
  {
   "cell_type": "code",
   "execution_count": 4,
   "id": "00ff5d80",
   "metadata": {},
   "outputs": [],
   "source": [
    "class ConfigurationManager:\n",
    "    def __init__(self , config_file_path = CONFIG_FILE_PATH , params_file_path = PARAMS_FILE_PATH):\n",
    "        self.config = read_yaml(config_file_path)\n",
    "        self.params = read_yaml(params_file_path)\n",
    "\n",
    "        create_directories([self.config.artifacts_root])\n",
    "\n",
    "\n",
    "    def get_data_validation_config(self) -> DataValidationConfig:\n",
    "\n",
    "        config = self.config.data_validation\n",
    "\n",
    "        create_directories([config.root_dir])\n",
    "\n",
    "        data_validation_config = DataValidationConfig(\n",
    "            root_dir= config.root_dir,\n",
    "            STATUS_FILE= config.STATUS_FILE,\n",
    "            data_set_dir = config.data_set_dir\n",
    "        )\n",
    "\n",
    "        return data_validation_config"
   ]
  },
  {
   "cell_type": "code",
   "execution_count": 5,
   "id": "927d4dac",
   "metadata": {},
   "outputs": [],
   "source": [
    "import torchvision.transforms as transforms\n",
    "from torch.utils.data import DataLoader\n",
    "from src.vision_Transformer.logging import logger\n",
    "import matplotlib.pyplot as plt\n",
    "\n",
    "pre_transform = transforms.Compose([\n",
    "    transforms.ToTensor(),\n",
    "    transforms.Normalize(mean = (0.5) , std = (0.5))\n",
    "])"
   ]
  },
  {
   "cell_type": "code",
   "execution_count": 12,
   "id": "73814c3c",
   "metadata": {},
   "outputs": [],
   "source": [
    "import numpy as np"
   ]
  },
  {
   "cell_type": "code",
   "execution_count": null,
   "id": "7d50b5ee",
   "metadata": {},
   "outputs": [],
   "source": [
    "class DataValidation:\n",
    "    def __init__(self, config  : DataValidationConfig , pre_transform):\n",
    "        self.config = config\n",
    "        self.pre_transform = pre_transform\n",
    "\n",
    "    def validate_data(self):\n",
    "\n",
    "        train_dataset = datasets.CIFAR10(\n",
    "            root= self.config.data_set_dir,\n",
    "            train = True,\n",
    "            download = False,\n",
    "            transform = self.pre_transform,\n",
    "        )\n",
    "\n",
    "        test_dataset = datasets.CIFAR10(\n",
    "            root= self.config.data_set_dir,\n",
    "            train = False,\n",
    "            download = False,\n",
    "            transform = self.pre_transform,\n",
    "        )\n",
    "\n",
    "        return train_dataset , test_dataset\n",
    "\n",
    "    \n",
    "\n",
    "    def check_size(self, train_dataset , test_dataset) -> bool:\n",
    "        is_valid = True\n",
    "        len_of_train_dataset = len(train_dataset)\n",
    "        len_of_test_dataset = len(test_dataset)\n",
    "\n",
    "        len_of_classes_train_dataset = len(train_dataset.classes)\n",
    "\n",
    "        if len_of_train_dataset == 50000 and len_of_test_dataset == 10000:\n",
    "            logger.info(f\"The length of both train and test dataset is correct\")\n",
    "        \n",
    "        if len_of_classes_train_dataset == 10:\n",
    "            logger.info(f\"The number of both train and test dataset's classes is correct\")\n",
    "        \n",
    "        else:\n",
    "            logger.info(f\"Original Dataset's details does not match the downloaded Datasets's details\")\n",
    "            is_valid = False\n",
    "\n",
    "        return is_valid\n",
    "\n",
    "    def plot_image(self, dataset , classes , num_of_images = 5):\n",
    "        fig , axes = plt.subplots(1 , num_of_images , figsize = (8 ,4))\n",
    "\n",
    "        for i in range(num_of_images):\n",
    "            image , label = dataset[i + np.random.randint(0,10)]\n",
    "\n",
    "            image = image.permute(1, 2, 0).numpy()\n",
    "            image = (image*0.5) + 0.5\n",
    "\n",
    "            axes[i].imshow(image)\n",
    "            axes[i].set_title(classes[label])\n",
    "            axes[i].axis(\"off\")\n",
    "        plt.tight_layout()\n",
    "        plt.show()\n",
    "\n",
    "    # now validate status\n",
    "    def write_status(self , is_valid):\n",
    "\n",
    "        txt_file = self.config.STATUS_FILE\n",
    "\n",
    "        is_valid = is_valid\n",
    "        correct = \"\"\n",
    "        if(is_valid):\n",
    "            correct = \"correct\"\n",
    "        else:\n",
    "            correct = \"is not correct\"\n",
    "\n",
    "        with open(txt_file, \"w\") as f:\n",
    "            f.write(f\"The Dataset is {correct}\")"
   ]
  },
  {
   "cell_type": "code",
   "execution_count": 18,
   "id": "ba89de47",
   "metadata": {},
   "outputs": [
    {
     "name": "stdout",
     "output_type": "stream",
     "text": [
      "[2025-08-02 11:26:48,943 : INFO : common  : yaml file config\\config.yaml was read succesfully]\n",
      "[2025-08-02 11:26:48,944 : INFO : common  : yaml file params.yaml was read succesfully]\n",
      "[2025-08-02 11:26:48,947 : INFO : common  : Created directory at : artifacts]\n",
      "[2025-08-02 11:26:48,948 : INFO : common  : Created directory at : artifacts/data_validation]\n",
      "[2025-08-02 11:26:49,952 : INFO : 2880463172  : The length of both train and test dataset is correct]\n",
      "[2025-08-02 11:26:49,952 : INFO : 2880463172  : The number of both train and test dataset's classes is correct]\n",
      "--------------------------------------\n"
     ]
    },
    {
     "data": {
      "image/png": "[encoded data removed]",
      "text/plain": [
       "<Figure size 800x400 with 5 Axes>"
      ]
     },
     "metadata": {},
     "output_type": "display_data"
    }
   ],
   "source": [
    "# try:\n",
    "config = ConfigurationManager()\n",
    "data_validation_config = config.get_data_validation_config()\n",
    "\n",
    "data_validation = DataValidation(data_validation_config , pre_transform)\n",
    "\n",
    "train_dataset , test_dataset = data_validation.validate_data()\n",
    "is_valid = data_validation.check_size(train_dataset, test_dataset)\n",
    "\n",
    "data_validation.write_status(is_valid)\n",
    "\n",
    "print(\"--------------------------------------\")\n",
    "data_validation.plot_image(train_dataset , classes=train_dataset.classes)\n",
    "# except Exception as e:\n",
    "#   raise e"
   ]
  },
  {
   "cell_type": "code",
   "execution_count": null,
   "id": "3ac9d38b",
   "metadata": {},
   "outputs": [],
   "source": []
  },
  {
   "cell_type": "code",
   "execution_count": null,
   "id": "30bc53fb",
   "metadata": {},
   "outputs": [],
   "source": []
  },
  {
   "cell_type": "code",
   "execution_count": null,
   "id": "7096cf97",
   "metadata": {},
   "outputs": [],
   "source": []
  }
 ],
 "metadata": {
  "kernelspec": {
   "display_name": "pytorch_gpu",
   "language": "python",
   "name": "python3"
  },
  "language_info": {
   "codemirror_mode": {
    "name": "ipython",
    "version": 3
   },
   "file_extension": ".py",
   "mimetype": "text/x-python",
   "name": "python",
   "nbconvert_exporter": "python",
   "pygments_lexer": "ipython3",
   "version": "3.10.18"
  }
 },
 "nbformat": 4,
 "nbformat_minor": 5
}
