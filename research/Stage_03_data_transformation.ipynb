{
 "cells": [
  {
   "cell_type": "code",
   "execution_count": 1,
   "id": "7ab6da1a",
   "metadata": {},
   "outputs": [],
   "source": [
    "import os\n",
    "os.chdir(\"../\")"
   ]
  },
  {
   "cell_type": "code",
   "execution_count": 2,
   "id": "6c45d79e",
   "metadata": {},
   "outputs": [],
   "source": [
    "import os \n",
    "import torch\n",
    "from pathlib import Path\n",
    "from dataclasses import dataclass\n",
    "from src.vision_Transformer.utils.common import read_yaml, create_directories\n",
    "from src.vision_Transformer.logging import logger\n",
    "from src.vision_Transformer.constants import *\n",
    "import torchvision.datasets as datasets\n",
    "import torchvision.transforms as transforms"
   ]
  },
  {
   "cell_type": "code",
   "execution_count": 8,
   "id": "21b2c14f",
   "metadata": {},
   "outputs": [],
   "source": [
    "@dataclass(frozen = True)\n",
    "class DataTransformationConfig:\n",
    "    dataset_dir : Path"
   ]
  },
  {
   "cell_type": "code",
   "execution_count": 4,
   "id": "e7bfd71f",
   "metadata": {},
   "outputs": [],
   "source": [
    "class ConfigurationManager:\n",
    "    def __init__(self , \n",
    "                config_file_path = CONFIG_FILE_PATH, \n",
    "                params_file_path = PARAMS_FILE_PATH):\n",
    "        \n",
    "        self.config = read_yaml(config_file_path)\n",
    "        self.params = read_yaml(params_file_path)\n",
    "\n",
    "        create_directories([self.config.artifacts_root])\n",
    "\n",
    "    def get_data_transformation_config(self) -> DataTransformationConfig:\n",
    "        config = self.config.data_transformation\n",
    "\n",
    "        data_transformation_config = DataTransformationConfig(\n",
    "            dataset_dir= config.dataset_dir\n",
    "        )\n",
    "\n",
    "        return data_transformation_config"
   ]
  },
  {
   "cell_type": "code",
   "execution_count": 5,
   "id": "634ab1f8",
   "metadata": {},
   "outputs": [],
   "source": [
    "import matplotlib.pyplot as plt\n",
    "import numpy as np"
   ]
  },
  {
   "cell_type": "code",
   "execution_count": 15,
   "id": "5287ce78",
   "metadata": {},
   "outputs": [],
   "source": [
    "class DataTransformation:\n",
    "    def __init__(self , config : DataTransformationConfig):\n",
    "        self.config = config\n",
    "\n",
    "    def data_augmentation(self):\n",
    "        self.after_transforms = transforms.Compose([\n",
    "            transforms.RandomCrop(32 , padding=4),\n",
    "            transforms.RandomHorizontalFlip(),\n",
    "            transforms.ColorJitter(brightness=0.2 ,contrast= 0.2, saturation=0.2 , hue=0.1),\n",
    "            transforms.ToTensor(),\n",
    "            transforms.Normalize(mean=[0.5]*3 , std = [0.5]*3)\n",
    "        ])\n",
    "    \n",
    "    def transformed_dataset(self):\n",
    "        transformed_train_dataset = datasets.CIFAR10(\n",
    "            root = self.config.dataset_dir,\n",
    "            train = True,\n",
    "            download= False,\n",
    "            transform= self.after_transforms,\n",
    "        )\n",
    "        logger.info(f\"Train Dataset Transformed Successfully\")\n",
    "        print(f\"Train Dataset Transformed Successfully\")\n",
    "\n",
    "        transformed_test_dataset = datasets.CIFAR10(\n",
    "            root = self.config.dataset_dir,\n",
    "            train = False,\n",
    "            download= False,\n",
    "            transform= self.after_transforms,\n",
    "        )\n",
    "        logger.info(f\"Test Dataset Transformed Successfully\")\n",
    "        print(f\"Test Dataset Transformed Successfully\")\n",
    "\n",
    "        return transformed_train_dataset , transformed_test_dataset\n",
    "    \n",
    "    def plot_image(self, datasets, classes , num_images = 5):\n",
    "        fig , axes = plt.subplots(1 , num_images , figsize = (10, 5))\n",
    "\n",
    "        for i in range(num_images):\n",
    "            img , label = datasets[i + np.random.randint(0, 10)]\n",
    "\n",
    "            image = img.permute(1 , 2, 0).numpy()\n",
    "            image = (image * 0.5) + 0.5 # de-normalized by \n",
    "            # original_pixel= ( normalized_pixel × std ) + mean \n",
    "\n",
    "\n",
    "            axes[i].imshow(image)\n",
    "            axes[i].set_title(classes[label])\n",
    "            axes[i].axis(\"off\")\n",
    "        plt.tight_layout()\n",
    "        plt.show()"
   ]
  },
  {
   "cell_type": "code",
   "execution_count": 16,
   "id": "d8cc9ead",
   "metadata": {},
   "outputs": [
    {
     "name": "stdout",
     "output_type": "stream",
     "text": [
      "[2025-08-02 12:00:32,506 : INFO : common  : yaml file config\\config.yaml was read succesfully]\n",
      "[2025-08-02 12:00:32,508 : INFO : common  : yaml file params.yaml was read succesfully]\n",
      "[2025-08-02 12:00:32,509 : INFO : common  : Created directory at : artifacts]\n",
      "[2025-08-02 12:00:33,128 : INFO : 2010391418  : Train Dataset Transformed Successfully]\n",
      "Train Dataset Transformed Successfully\n",
      "[2025-08-02 12:00:33,575 : INFO : 2010391418  : Test Dataset Transformed Successfully]\n",
      "Test Dataset Transformed Successfully\n"
     ]
    },
    {
     "data": {
      "image/png": "[encoded data removed]",
      "text/plain": [
       "<Figure size 1000x500 with 5 Axes>"
      ]
     },
     "metadata": {},
     "output_type": "display_data"
    }
   ],
   "source": [
    "try:\n",
    "    config = ConfigurationManager()\n",
    "    data_transformation_config = config.get_data_transformation_config()\n",
    "\n",
    "    data_transformation = DataTransformation(data_transformation_config)\n",
    "\n",
    "    data_transformation.data_augmentation()\n",
    "\n",
    "    train_dataset , test_dataset = data_transformation.transformed_dataset()\n",
    "    \n",
    "    data_transformation.plot_image(train_dataset, train_dataset.classes)\n",
    "except Exception as e:\n",
    "    raise e"
   ]
  },
  {
   "cell_type": "code",
   "execution_count": null,
   "id": "4f490ac6",
   "metadata": {},
   "outputs": [],
   "source": []
  },
  {
   "cell_type": "code",
   "execution_count": null,
   "id": "0c4eeb86",
   "metadata": {},
   "outputs": [],
   "source": []
  },
  {
   "cell_type": "code",
   "execution_count": null,
   "id": "bb22834c",
   "metadata": {},
   "outputs": [],
   "source": []
  }
 ],
 "metadata": {
  "kernelspec": {
   "display_name": "pytorch_gpu",
   "language": "python",
   "name": "python3"
  },
  "language_info": {
   "codemirror_mode": {
    "name": "ipython",
    "version": 3
   },
   "file_extension": ".py",
   "mimetype": "text/x-python",
   "name": "python",
   "nbconvert_exporter": "python",
   "pygments_lexer": "ipython3",
   "version": "3.10.18"
  }
 },
 "nbformat": 4,
 "nbformat_minor": 5
}
